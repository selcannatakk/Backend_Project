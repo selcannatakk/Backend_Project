{
  "nbformat": 4,
  "nbformat_minor": 0,
  "metadata": {
    "colab": {
      "provenance": [],
      "authorship_tag": "ABX9TyNyPCtx31m1kuUAafDnUdSj",
      "include_colab_link": true
    },
    "kernelspec": {
      "name": "python3",
      "display_name": "Python 3"
    },
    "language_info": {
      "name": "python"
    }
  },
  "cells": [
    {
      "cell_type": "markdown",
      "metadata": {
        "id": "view-in-github",
        "colab_type": "text"
      },
      "source": [
        "<a href=\"https://colab.research.google.com/github/selcanatak2629/BackendProject/blob/master/MachineLearning_ClassificationAlgorithms.ipynb\" target=\"_parent\"><img src=\"https://colab.research.google.com/assets/colab-badge.svg\" alt=\"Open In Colab\"/></a>"
      ]
    },
    {
      "cell_type": "code",
      "execution_count": 1,
      "metadata": {
        "colab": {
          "base_uri": "https://localhost:8080/"
        },
        "id": "E_l15MyJbpNG",
        "outputId": "cce11a85-c22b-4fab-d9bd-2f1237327e9d"
      },
      "outputs": [
        {
          "output_type": "stream",
          "name": "stdout",
          "text": [
            "Mounted at /content/gdrive\n",
            " Artificial_Intelligence\t     mask_test_images\n",
            " Cognitiwe\t\t\t     MyDrive\n",
            "'Colab Notebooks'\t\t    'My Drive'\n",
            " customTF2\t\t\t    'Selcan_ATAK_CV (1).pdf'\n",
            " customTF22\t\t\t    'Selcan_ATAK_CV (2).pdf'\n",
            " KafkaCloudKurulumNotlari_yeni.txt   Selcan_ATAK_CV.pdf\n",
            " local_pc\t\t\t     titanic\n",
            " maske_algilama\t\t\t     yolov4\n"
          ]
        }
      ],
      "source": [
        "from google.colab import drive\n",
        "drive.mount('/content/gdrive')\n",
        "\n",
        "!ln -s /content/gdrive/My\\ Drive/ /mydrive\n",
        "!ls /mydrive"
      ]
    },
    {
      "cell_type": "code",
      "source": [
        "import numpy as np\n",
        "import pandas as pd\n",
        "import matplotlib.pyplot as plt\n",
        "from sklearn.model_selection import train_test_split\n",
        "from sklearn.preprocessing import StandardScaler"
      ],
      "metadata": {
        "id": "wx8OMfm6bqF4"
      },
      "execution_count": 10,
      "outputs": []
    },
    {
      "cell_type": "code",
      "source": [
        "%cd /content/gdrive/MyDrive/Artificial_Intelligence/MachineLearningData"
      ],
      "metadata": {
        "colab": {
          "base_uri": "https://localhost:8080/"
        },
        "id": "7wk69h-9bqIn",
        "outputId": "51948f0d-d010-4197-c49b-e3c846952804"
      },
      "execution_count": 3,
      "outputs": [
        {
          "output_type": "stream",
          "name": "stdout",
          "text": [
            "/content/gdrive/MyDrive/Artificial_Intelligence/MachineLearningData\n"
          ]
        }
      ]
    },
    {
      "cell_type": "code",
      "source": [
        "datas = pd.read_csv('datas.csv')\n",
        "print(datas)"
      ],
      "metadata": {
        "colab": {
          "base_uri": "https://localhost:8080/"
        },
        "id": "_EBOGFI_cndS",
        "outputId": "00d53a36-9778-454d-eb53-2c40b51e355a"
      },
      "execution_count": 5,
      "outputs": [
        {
          "output_type": "stream",
          "name": "stdout",
          "text": [
            "   ulke  boy  kilo  yas cinsiyet\n",
            "0    tr  130    30   10        e\n",
            "1    tr  125    36   11        e\n",
            "2    tr  135    34   10        k\n",
            "3    tr  133    30    9        k\n",
            "4    tr  129    38   12        e\n",
            "5    tr  180    90   30        e\n",
            "6    tr  190    80   25        e\n",
            "7    tr  175    90   35        e\n",
            "8    tr  177    60   22        k\n",
            "9    us  185   105   33        e\n",
            "10   us  165    55   27        k\n",
            "11   us  155    50   44        k\n",
            "12   us  160    58   39        k\n",
            "13   us  162    59   41        k\n",
            "14   us  167    62   55        k\n",
            "15   fr  174    70   47        e\n",
            "16   fr  193    90   23        e\n",
            "17   fr  187    80   27        e\n",
            "18   fr  183    88   28        e\n",
            "19   fr  159    40   29        k\n",
            "20   fr  164    66   32        k\n",
            "21   fr  166    56   42        k\n"
          ]
        }
      ]
    },
    {
      "cell_type": "code",
      "source": [
        "x = datas.iloc[:,1:4] #dependent\n",
        "y = datas.iloc[:,4:] #indepentent\n",
        "print(x,y)"
      ],
      "metadata": {
        "colab": {
          "base_uri": "https://localhost:8080/"
        },
        "id": "G0xJK7qXdkRf",
        "outputId": "610e265d-67b6-4724-ff6d-06562e7bb77b"
      },
      "execution_count": 9,
      "outputs": [
        {
          "output_type": "stream",
          "name": "stdout",
          "text": [
            "    boy  kilo  yas\n",
            "0   130    30   10\n",
            "1   125    36   11\n",
            "2   135    34   10\n",
            "3   133    30    9\n",
            "4   129    38   12\n",
            "5   180    90   30\n",
            "6   190    80   25\n",
            "7   175    90   35\n",
            "8   177    60   22\n",
            "9   185   105   33\n",
            "10  165    55   27\n",
            "11  155    50   44\n",
            "12  160    58   39\n",
            "13  162    59   41\n",
            "14  167    62   55\n",
            "15  174    70   47\n",
            "16  193    90   23\n",
            "17  187    80   27\n",
            "18  183    88   28\n",
            "19  159    40   29\n",
            "20  164    66   32\n",
            "21  166    56   42    cinsiyet\n",
            "0         e\n",
            "1         e\n",
            "2         k\n",
            "3         k\n",
            "4         e\n",
            "5         e\n",
            "6         e\n",
            "7         e\n",
            "8         k\n",
            "9         e\n",
            "10        k\n",
            "11        k\n",
            "12        k\n",
            "13        k\n",
            "14        k\n",
            "15        e\n",
            "16        e\n",
            "17        e\n",
            "18        e\n",
            "19        k\n",
            "20        k\n",
            "21        k\n"
          ]
        }
      ]
    },
    {
      "cell_type": "code",
      "source": [
        "x_train, x_test, y_train, y_test = train_test_split(x, y, test_size=0.33, random_state=0)"
      ],
      "metadata": {
        "id": "WWJPZZT2cngj"
      },
      "execution_count": 13,
      "outputs": []
    },
    {
      "cell_type": "code",
      "source": [
        "#scaling\n",
        "sc = StandardScaler()\n",
        "\n",
        "X_train = sc.fit_transform(x_train)\n",
        "X_test = sc.transform(x_test)"
      ],
      "metadata": {
        "id": "IqKdig7-ePyN"
      },
      "execution_count": 14,
      "outputs": []
    },
    {
      "cell_type": "code",
      "source": [
        "#LogisticRegression\n",
        "from sklearn.linear_model import LogisticRegression\n",
        "logr = LogisticRegression(random_state=0)\n",
        "logr.fit(X_train,y_train)\n",
        "\n",
        "y_pred = logr.predict(X_test)\n",
        "print(y_pred,y_test)"
      ],
      "metadata": {
        "colab": {
          "base_uri": "https://localhost:8080/"
        },
        "id": "Oa0H0k8ZeP1W",
        "outputId": "236139e4-0793-4980-ceda-002d3b5b41bf"
      },
      "execution_count": 16,
      "outputs": [
        {
          "output_type": "stream",
          "name": "stdout",
          "text": [
            "['e' 'e' 'e' 'e' 'k' 'e' 'e' 'e']    cinsiyet\n",
            "20        k\n",
            "10        k\n",
            "14        k\n",
            "13        k\n",
            "1         e\n",
            "21        k\n",
            "11        k\n",
            "19        k\n"
          ]
        },
        {
          "output_type": "stream",
          "name": "stderr",
          "text": [
            "/usr/local/lib/python3.7/dist-packages/sklearn/utils/validation.py:993: DataConversionWarning: A column-vector y was passed when a 1d array was expected. Please change the shape of y to (n_samples, ), for example using ravel().\n",
            "  y = column_or_1d(y, warn=True)\n"
          ]
        }
      ]
    },
    {
      "cell_type": "code",
      "source": [
        "#confusion matrix\n",
        "from sklearn.metrics import confusion_matrix\n",
        "cm = confusion_matrix(y_test,y_pred)\n",
        "print(cm)"
      ],
      "metadata": {
        "colab": {
          "base_uri": "https://localhost:8080/"
        },
        "id": "R-6m39j2eP4E",
        "outputId": "ba9359b7-f718-46ee-e2dd-546b8b035b17"
      },
      "execution_count": 17,
      "outputs": [
        {
          "output_type": "stream",
          "name": "stdout",
          "text": [
            "[[0 1]\n",
            " [7 0]]\n"
          ]
        }
      ]
    },
    {
      "cell_type": "code",
      "source": [
        "#K-NN\n",
        "from sklearn.neighbors import KNeighborsClassifier\n",
        "\n",
        "knn = KNeighborsClassifier(n_neighbors=1, metric='minkowski')\n",
        "knn.fit(X_train,y_train)\n",
        "\n",
        "y_pred = knn.predict(X_test)\n",
        "\n",
        "cm = confusion_matrix(y_test,y_pred)\n",
        "print('K-NN')\n",
        "print(cm)"
      ],
      "metadata": {
        "colab": {
          "base_uri": "https://localhost:8080/"
        },
        "id": "U9MSqNTOmZEp",
        "outputId": "5c5b2a0e-37a2-410b-e4b7-1a5796000345"
      },
      "execution_count": 28,
      "outputs": [
        {
          "output_type": "stream",
          "name": "stdout",
          "text": [
            "K-NN\n",
            "[[1 0]\n",
            " [1 6]]\n"
          ]
        },
        {
          "output_type": "stream",
          "name": "stderr",
          "text": [
            "/usr/local/lib/python3.7/dist-packages/sklearn/neighbors/_classification.py:198: DataConversionWarning: A column-vector y was passed when a 1d array was expected. Please change the shape of y to (n_samples,), for example using ravel().\n",
            "  return self._fit(X, y)\n"
          ]
        }
      ]
    },
    {
      "cell_type": "code",
      "source": [
        "from sklearn.svm import SVC\n",
        "svc = SVC(kernel='rbf')\n",
        "svc.fit(X_train,y_train)\n",
        "\n",
        "y_pred = svc.predict(X_test)\n",
        "\n",
        "cm = confusion_matrix(y_test,y_pred)\n",
        "print('SVC')\n",
        "print(cm)"
      ],
      "metadata": {
        "colab": {
          "base_uri": "https://localhost:8080/"
        },
        "id": "7yTV7zo5orZX",
        "outputId": "ec173b61-b445-4793-8dcd-60ac72c6a80a"
      },
      "execution_count": 29,
      "outputs": [
        {
          "output_type": "stream",
          "name": "stdout",
          "text": [
            "SVC\n",
            "[[1 0]\n",
            " [5 2]]\n"
          ]
        },
        {
          "output_type": "stream",
          "name": "stderr",
          "text": [
            "/usr/local/lib/python3.7/dist-packages/sklearn/utils/validation.py:993: DataConversionWarning: A column-vector y was passed when a 1d array was expected. Please change the shape of y to (n_samples, ), for example using ravel().\n",
            "  y = column_or_1d(y, warn=True)\n"
          ]
        }
      ]
    }
  ]
}