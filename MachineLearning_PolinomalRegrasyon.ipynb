{
  "nbformat": 4,
  "nbformat_minor": 0,
  "metadata": {
    "colab": {
      "provenance": [],
      "authorship_tag": "ABX9TyPTAT+gO/He0D6x+0D/FhiH"
    },
    "kernelspec": {
      "name": "python3",
      "display_name": "Python 3"
    },
    "language_info": {
      "name": "python"
    },
    "accelerator": "GPU",
    "gpuClass": "standard"
  },
  "cells": [
    {
      "cell_type": "code",
      "execution_count": 1,
      "metadata": {
        "id": "-MokTHBmeR_x",
        "colab": {
          "base_uri": "https://localhost:8080/"
        },
        "outputId": "de7d92a2-8cc6-42f3-c61e-306ee1e816ab"
      },
      "outputs": [
        {
          "output_type": "stream",
          "name": "stdout",
          "text": [
            "Mounted at /content/gdrive\n",
            "'Artificial Intelligence'\t     mask_test_images\n",
            " Cognitiwe\t\t\t     MyDrive\n",
            "'Colab Notebooks'\t\t    'My Drive'\n",
            " customTF2\t\t\t    'Selcan_ATAK_CV (1).pdf'\n",
            " customTF22\t\t\t    'Selcan_ATAK_CV (2).pdf'\n",
            " KafkaCloudKurulumNotlari_yeni.txt   Selcan_ATAK_CV.pdf\n",
            " local_pc\t\t\t     titanic\n",
            " maske_algilama\t\t\t     yolov4\n"
          ]
        }
      ],
      "source": [
        "from google.colab import drive\n",
        "drive.mount('/content/gdrive')\n",
        "\n",
        "!ln -s /content/gdrive/My\\ Drive/ /mydrive\n",
        "!ls /mydrive"
      ]
    },
    {
      "cell_type": "code",
      "source": [
        "import numpy as np\n",
        "import matplotlib.pyplot as plt\n",
        "import pandas as pd"
      ],
      "metadata": {
        "id": "y7NgYXxqjILI"
      },
      "execution_count": 2,
      "outputs": []
    },
    {
      "cell_type": "code",
      "source": [
        "%cd /content/gdrive/MyDrive/Artificial_Intelligence/MachineLearningData"
      ],
      "metadata": {
        "colab": {
          "base_uri": "https://localhost:8080/"
        },
        "id": "-03V7EVqjv1T",
        "outputId": "b64675a0-a8ae-45f6-e719-4d9c6058278d"
      },
      "execution_count": 3,
      "outputs": [
        {
          "output_type": "stream",
          "name": "stdout",
          "text": [
            "/content/gdrive/MyDrive/Artificial_Intelligence/MachineLearningData\n"
          ]
        }
      ]
    },
    {
      "cell_type": "code",
      "source": [
        "#data preprocessing\n",
        "datas = pd.read_csv('maaslar.csv')\n",
        "print(datas)"
      ],
      "metadata": {
        "colab": {
          "base_uri": "https://localhost:8080/"
        },
        "id": "lwbMHqCujIZZ",
        "outputId": "7bfd7bb0-4845-480c-d34d-2dff19cfcb53"
      },
      "execution_count": 5,
      "outputs": [
        {
          "output_type": "stream",
          "name": "stdout",
          "text": [
            "              unvan  Egitim Seviyesi   maas\n",
            "0             Cayci                1   2250\n",
            "1          Sekreter                2   2500\n",
            "2  Uzman Yardimcisi                3   3000\n",
            "3             Uzman                4   4000\n",
            "4  Proje Yoneticisi                5   5500\n",
            "5               Sef                6   7500\n",
            "6             Mudur                7  10000\n",
            "7          Direktor                8  15000\n",
            "8           C-level                9  25000\n",
            "9               CEO               10  50000\n"
          ]
        }
      ]
    },
    {
      "cell_type": "code",
      "source": [
        "x = datas.iloc[:,1:2]\n",
        "y = datas.iloc[:,2:]\n",
        "print(x)\n",
        "print(y)"
      ],
      "metadata": {
        "colab": {
          "base_uri": "https://localhost:8080/"
        },
        "id": "Z_aTMlZPk9yV",
        "outputId": "72a28baf-e417-404d-a990-dd77318869f7"
      },
      "execution_count": 12,
      "outputs": [
        {
          "output_type": "stream",
          "name": "stdout",
          "text": [
            "   Egitim Seviyesi\n",
            "0                1\n",
            "1                2\n",
            "2                3\n",
            "3                4\n",
            "4                5\n",
            "5                6\n",
            "6                7\n",
            "7                8\n",
            "8                9\n",
            "9               10\n",
            "    maas\n",
            "0   2250\n",
            "1   2500\n",
            "2   3000\n",
            "3   4000\n",
            "4   5500\n",
            "5   7500\n",
            "6  10000\n",
            "7  15000\n",
            "8  25000\n",
            "9  50000\n"
          ]
        }
      ]
    },
    {
      "cell_type": "code",
      "source": [
        "#linear regression\n",
        "from sklearn.linear_model import LinearRegression\n",
        "lin_reg = LinearRegression()\n",
        "lin_reg.fit(x.values,y.values) # bizden array istiyor \n",
        "\n",
        "plt.scatter(x.values,y.values) # view points\n",
        "plt.plot(x,lin_reg.predict(x))\n",
        "plt.show()"
      ],
      "metadata": {
        "colab": {
          "base_uri": "https://localhost:8080/",
          "height": 320
        },
        "id": "8200o9Z5k903",
        "outputId": "2de9b66b-eeab-4ce4-ad05-ada332ba20fd"
      },
      "execution_count": 15,
      "outputs": [
        {
          "output_type": "stream",
          "name": "stderr",
          "text": [
            "/usr/local/lib/python3.7/dist-packages/sklearn/base.py:444: UserWarning: X has feature names, but LinearRegression was fitted without feature names\n",
            "  f\"X has feature names, but {self.__class__.__name__} was fitted without\"\n"
          ]
        },
        {
          "output_type": "display_data",
          "data": {
            "text/plain": [
              "<Figure size 432x288 with 1 Axes>"
            ],
            "image/png": "[encoded data removed]"
          },
          "metadata": {
            "needs_background": "light"
          }
        }
      ]
    },
    {
      "cell_type": "code",
      "source": [
        "#polinomal regression\n",
        "from sklearn.preprocessing import PolynomialFeatures\n",
        "\n",
        "poly_reg = PolynomialFeatures(degree = 2) # 2. dereceden bir obje olusturuyoruz\n",
        "x_poly = poly_reg.fit_transform(x.values)\n",
        "print(x_poly)"
      ],
      "metadata": {
        "colab": {
          "base_uri": "https://localhost:8080/"
        },
        "id": "e9Uo6LZbmGbU",
        "outputId": "4e79c655-8bc0-4161-edb6-e7bc0a08b47e"
      },
      "execution_count": 16,
      "outputs": [
        {
          "output_type": "stream",
          "name": "stdout",
          "text": [
            "[[  1.   1.   1.]\n",
            " [  1.   2.   4.]\n",
            " [  1.   3.   9.]\n",
            " [  1.   4.  16.]\n",
            " [  1.   5.  25.]\n",
            " [  1.   6.  36.]\n",
            " [  1.   7.  49.]\n",
            " [  1.   8.  64.]\n",
            " [  1.   9.  81.]\n",
            " [  1.  10. 100.]]\n"
          ]
        }
      ]
    },
    {
      "cell_type": "code",
      "source": [
        "lin_reg2 = LinearRegression()\n",
        "lin_reg2.fit(x_poly, y)\n",
        "plt.scatter(x.values,y.values)\n",
        "plt.plot(x.values,lin_reg2.predict(poly_reg.fit_transform(x.values)))"
      ],
      "metadata": {
        "colab": {
          "base_uri": "https://localhost:8080/",
          "height": 282
        },
        "id": "ez42mRvfwOQV",
        "outputId": "4a367020-0fca-4a16-b14a-89835cf4a2ad"
      },
      "execution_count": 17,
      "outputs": [
        {
          "output_type": "execute_result",
          "data": {
            "text/plain": [
              "[<matplotlib.lines.Line2D at 0x7f8948ef9550>]"
            ]
          },
          "metadata": {},
          "execution_count": 17
        },
        {
          "output_type": "display_data",
          "data": {
            "text/plain": [
              "<Figure size 432x288 with 1 Axes>"
            ],
            "image/png": "[encoded data removed]"
          },
          "metadata": {
            "needs_background": "light"
          }
        }
      ]
    },
    {
      "cell_type": "code",
      "source": [
        "#predicts\n",
        "print(lin_reg.predict([[11]]))\n",
        "print(lin_reg2.predict(poly_reg.fit_transform([[11]])))"
      ],
      "metadata": {
        "colab": {
          "base_uri": "https://localhost:8080/"
        },
        "id": "t-Ziv5hUzAz0",
        "outputId": "95d99ede-02d4-4fca-d659-4ed6ab68404b"
      },
      "execution_count": 23,
      "outputs": [
        {
          "output_type": "stream",
          "name": "stdout",
          "text": [
            "[[34716.66666667]]\n",
            "[[56091.66666667]]\n"
          ]
        }
      ]
    }
  ]
}